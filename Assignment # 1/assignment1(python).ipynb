{
 "cells": [
  {
   "cell_type": "code",
   "execution_count": 2,
   "id": "37958cd2",
   "metadata": {},
   "outputs": [
    {
     "name": "stdout",
     "output_type": "stream",
     "text": [
      "Twinkle,twinkle,little star\n",
      "\t How I wonder what you are!\n",
      "\t\t Up above the world so high\n",
      "\t\t Like a diamond in the sky\n",
      "Twinkle,twinkle,little star\n",
      "\t How I wonder what your are\n"
     ]
    }
   ],
   "source": [
    "print(\"Twinkle,twinkle,little star\")\n",
    "print(\"\\t How I wonder what you are!\")\n",
    "print(\"\\t\\t Up above the world so high\")\n",
    "print(\"\\t\\t Like a diamond in the sky\")\n",
    "print(\"Twinkle,twinkle,little star\")\n",
    "print(\"\\t How I wonder what your are\")"
   ]
  },
  {
   "cell_type": "code",
   "execution_count": 3,
   "id": "b7a6cfcb",
   "metadata": {},
   "outputs": [
    {
     "name": "stdout",
     "output_type": "stream",
     "text": [
      "sys.version_info(major=3, minor=9, micro=7, releaselevel='final', serial=0)\n"
     ]
    }
   ],
   "source": [
    "import sys\n",
    "print(sys.version_info)\n"
   ]
  },
  {
   "cell_type": "code",
   "execution_count": 5,
   "id": "cdf2ca42",
   "metadata": {},
   "outputs": [
    {
     "data": {
      "text/plain": [
       "True"
      ]
     },
     "execution_count": 5,
     "metadata": {},
     "output_type": "execute_result"
    }
   ],
   "source": [
    "sys.version_info>=(3,7)"
   ]
  },
  {
   "cell_type": "code",
   "execution_count": 7,
   "id": "3e5f9c36",
   "metadata": {},
   "outputs": [
    {
     "name": "stdout",
     "output_type": "stream",
     "text": [
      "The Current Date and Time is: 2022-01-01 15:33:53.072324\n"
     ]
    }
   ],
   "source": [
    "import datetime\n",
    "current_dt=datetime.datetime.now()\n",
    "print(\"The Current Date and Time is:\",current_dt)"
   ]
  },
  {
   "cell_type": "code",
   "execution_count": 11,
   "id": "7ba1fe18",
   "metadata": {},
   "outputs": [
    {
     "name": "stdout",
     "output_type": "stream",
     "text": [
      "Enter radius of a cirlce13\n",
      "Area of cirlcle is: 530.66\n"
     ]
    }
   ],
   "source": [
    "x=input(\"Enter radius of a cirlce\")\n",
    "r=int(x);\n",
    "a=3.14*r*r\n",
    "print(\"Area of cirlcle is:\",a)"
   ]
  },
  {
   "cell_type": "code",
   "execution_count": 13,
   "id": "ca679c18",
   "metadata": {},
   "outputs": [
    {
     "name": "stdout",
     "output_type": "stream",
     "text": [
      "Sufyan Huzaifa\n"
     ]
    }
   ],
   "source": [
    "a=\" Huzaifa\"\n",
    "b=\"Sufyan\"\n",
    "c=b+a\n",
    "print(c)"
   ]
  },
  {
   "cell_type": "code",
   "execution_count": 18,
   "id": "b541005c",
   "metadata": {},
   "outputs": [
    {
     "name": "stdout",
     "output_type": "stream",
     "text": [
      "Enter a first number12\n",
      "Enter a second number12\n",
      "sum 24\n"
     ]
    }
   ],
   "source": [
    "a=int(input(\"Enter a first number\"))\n",
    "b=int(input(\"Enter a second number\"))\n",
    "sum=a+b;\n",
    "print(\"sum\",sum)"
   ]
  },
  {
   "cell_type": "markdown",
   "id": "1d338f06",
   "metadata": {},
   "source": []
  },
  {
   "cell_type": "code",
   "execution_count": null,
   "id": "a1eb3177",
   "metadata": {},
   "outputs": [],
   "source": []
  }
 ],
 "metadata": {
  "kernelspec": {
   "display_name": "Python 3 (ipykernel)",
   "language": "python",
   "name": "python3"
  },
  "language_info": {
   "codemirror_mode": {
    "name": "ipython",
    "version": 3
   },
   "file_extension": ".py",
   "mimetype": "text/x-python",
   "name": "python",
   "nbconvert_exporter": "python",
   "pygments_lexer": "ipython3",
   "version": "3.9.7"
  }
 },
 "nbformat": 4,
 "nbformat_minor": 5
}
